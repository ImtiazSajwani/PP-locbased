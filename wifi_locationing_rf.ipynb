{
  "cells": [
    {
      "cell_type": "markdown",
      "metadata": {
        "id": "LpAeX-mFz7nV"
      },
      "source": [
        "# ML Algorithms for Predicting Indoor Locations"
      ]
    },
    {
      "cell_type": "markdown",
      "metadata": {
        "id": "pCVYfgCcz7nY"
      },
      "source": [
        "**Datasets**:    UJIIndoorLoc_trainingData.csv (training/validation set), UNJIndoorLoc_validationData.csv (test set)\n",
        "\n",
        "**Scenario**:    Determine the feasbility of using Wi-Fi fingerprints indoor smartphone locationing.\n",
        "             \n",
        "**Goal**:        Benchmark 3 indoor locationing solutions using the UJIIndoorLoc dataset from http://archive.ics.uci.edu/ml/datasets/UJIIndoorLoc. In this script, we'll use a random forest classifier.\n",
        " \n",
        "             \n",
        "- Tuned random forest: \"RandomForestClassifier_model.sav\"\n",
        "  - criterion: gini\n",
        "  - max_depth: not limited\n",
        "  - max_features: sqrt (The number of features to consider when \n",
        "  - looking for the best split)\n",
        "  - n_estimators: 60 (number of trees in the forest)\n",
        "  \n",
        "             \n",
        "- Tuning insights: See \"tuning_rf.csv\" for results of all hyperparameter combinations tried. For this dataset, the Gini splitting criterion generally performed better. Limiting the maximum depth of trees hindered performance. Using the square root of the number of features as the number of features to consider at each split was better than log2 and any percentage between 30 to 90% of the total number of features. More trees generally reduced overfitting, but increased memory usage during training considerably. Due to limited PC memory, the number of trees was limited to 60 trees in the best model.\n",
        "             \n",
        "             \n",
        "- Reason: gives good cross-validation scores. There's slight overfitting, suggested by the 11% gap between the cross-validation scores and the average training fold scores, which can be improved if not limited by PC ram.\n",
        "\n",
        "             \n",
        "- Training set performance (average of k-folds): accuracy 0.968 kappa 0.968  \n",
        "\n",
        "             \n",
        "- Cross validation performance: accuracy 0.856 kappa 0.8554\n",
        "\n",
        "  \n",
        "- Test set performance: \n",
        "\n",
        "  - mean positional error 8.579 m\n",
        "  - 25th percentile       1.466 m\n",
        "  - 50th percentile       5.551 m\n",
        "  - 75th percentile       11.218 m\n",
        "  - 95th percentile       28.303 m\n",
        "  - 100th percentile      94.208 m\n",
        "  - Building hitrate      100%\n",
        "  - Floor hitrate         90.4%"
      ]
    },
    {
      "cell_type": "markdown",
      "metadata": {
        "id": "n4drr-I8z7na"
      },
      "source": [
        "# Imports"
      ]
    },
    {
      "cell_type": "code",
      "execution_count": 2,
      "metadata": {
        "id": "_mP-YAm3z7nb"
      },
      "outputs": [],
      "source": [
        "#!pip3 install pandas\n",
        "#!pip3 install scikit-learn\n",
        "#!pip3 install xgboost==0.82\n",
        "#!pip install modin[all]\n",
        "\n",
        "import numpy as np\n",
        "import matplotlib.pyplot as plt\n",
        "import pandas as pd\n",
        "import time\n",
        "import glob\n",
        "import math\n",
        "import pickle\n",
        "import xgboost as xgb"
      ]
    },
    {
      "cell_type": "markdown",
      "metadata": {
        "id": "sIUsqir9z7nc"
      },
      "source": [
        "# Import Data"
      ]
    },
    {
      "cell_type": "code",
      "execution_count": 3,
      "metadata": {
        "id": "P4aXbIAtz7nc"
      },
      "outputs": [],
      "source": [
        "# training/validation set\n",
        "train_set = pd.read_csv(\"UJIIndoorLoc_trainingData.csv\")\n",
        "\n",
        "# test set\n",
        "test_set = pd.read_csv(\"UJIIndoorLoc_validationData.csv\")"
      ]
    },
    {
      "cell_type": "markdown",
      "metadata": {
        "id": "GagdnIH3z7nc"
      },
      "source": [
        "# Evaluate Data"
      ]
    },
    {
      "cell_type": "markdown",
      "metadata": {
        "id": "iCeTOQtdz7nd"
      },
      "source": [
        "Training/validation Set"
      ]
    },
    {
      "cell_type": "code",
      "execution_count": 4,
      "metadata": {
        "id": "1UdSR_Isz7nd",
        "outputId": "5c7fb058-5d72-4e4d-d15f-e024859461a9"
      },
      "outputs": [
        {
          "data": {
            "text/plain": [
              "array([0, 2, 1, 3], dtype=int64)"
            ]
          },
          "execution_count": 4,
          "metadata": {},
          "output_type": "execute_result"
        }
      ],
      "source": [
        "train_set.loc[train_set[\"BUILDINGID\"] == 0][\"FLOOR\"].unique() # building 0 has 4 floors\n"
      ]
    },
    {
      "cell_type": "code",
      "execution_count": 5,
      "metadata": {
        "id": "xLAcof6Vz7ne",
        "outputId": "4aee5203-7bcd-4604-d447-caf92a89ae12"
      },
      "outputs": [
        {
          "data": {
            "text/plain": [
              "array([2, 0, 1, 3], dtype=int64)"
            ]
          },
          "execution_count": 5,
          "metadata": {},
          "output_type": "execute_result"
        }
      ],
      "source": [
        "train_set.loc[train_set[\"BUILDINGID\"] == 1][\"FLOOR\"].unique() # building 1 has 4 floors"
      ]
    },
    {
      "cell_type": "code",
      "execution_count": 6,
      "metadata": {
        "id": "pO2QPIfjz7nf",
        "outputId": "edb1dfce-4d23-488a-d419-bf57b3917a06"
      },
      "outputs": [
        {
          "data": {
            "text/plain": [
              "array([3, 2, 4, 1, 0], dtype=int64)"
            ]
          },
          "execution_count": 6,
          "metadata": {},
          "output_type": "execute_result"
        }
      ],
      "source": [
        "train_set.loc[train_set[\"BUILDINGID\"] == 2][\"FLOOR\"].unique() # building 2 has 5 floors"
      ]
    },
    {
      "cell_type": "code",
      "execution_count": 7,
      "metadata": {
        "id": "Xd0P1UIvz7nf",
        "outputId": "bf22bf1f-5dc4-4197-9924-0ae09a57900c"
      },
      "outputs": [
        {
          "data": {
            "text/plain": [
              "array(['WAP001', 'WAP002', 'WAP003', 'WAP004', 'WAP005', 'WAP006',\n",
              "       'WAP007', 'WAP008', 'WAP009', 'WAP010', 'WAP011', 'WAP012',\n",
              "       'WAP013', 'WAP014', 'WAP015', 'WAP016', 'WAP017', 'WAP018',\n",
              "       'WAP019', 'WAP020', 'WAP021', 'WAP022', 'WAP023', 'WAP024',\n",
              "       'WAP025', 'WAP026', 'WAP027', 'WAP028', 'WAP029', 'WAP030',\n",
              "       'WAP031', 'WAP032', 'WAP033', 'WAP034', 'WAP035', 'WAP036',\n",
              "       'WAP037', 'WAP038', 'WAP039', 'WAP040', 'WAP041', 'WAP042',\n",
              "       'WAP043', 'WAP044', 'WAP045', 'WAP046', 'WAP047', 'WAP048',\n",
              "       'WAP049', 'WAP050', 'WAP051', 'WAP052', 'WAP053', 'WAP054',\n",
              "       'WAP055', 'WAP056', 'WAP057', 'WAP058', 'WAP059', 'WAP060',\n",
              "       'WAP061', 'WAP062', 'WAP063', 'WAP064', 'WAP065', 'WAP066',\n",
              "       'WAP067', 'WAP068', 'WAP069', 'WAP070', 'WAP071', 'WAP072',\n",
              "       'WAP073', 'WAP074', 'WAP075', 'WAP076', 'WAP077', 'WAP078',\n",
              "       'WAP079', 'WAP080', 'WAP081', 'WAP082', 'WAP083', 'WAP084',\n",
              "       'WAP085', 'WAP086', 'WAP087', 'WAP088', 'WAP089', 'WAP090',\n",
              "       'WAP091', 'WAP092', 'WAP093', 'WAP094', 'WAP095', 'WAP096',\n",
              "       'WAP097', 'WAP098', 'WAP099', 'WAP100', 'WAP101', 'WAP102',\n",
              "       'WAP103', 'WAP104', 'WAP105', 'WAP106', 'WAP107', 'WAP108',\n",
              "       'WAP109', 'WAP110', 'WAP111', 'WAP112', 'WAP113', 'WAP114',\n",
              "       'WAP115', 'WAP116', 'WAP117', 'WAP118', 'WAP119', 'WAP120',\n",
              "       'WAP121', 'WAP122', 'WAP123', 'WAP124', 'WAP125', 'WAP126',\n",
              "       'WAP127', 'WAP128', 'WAP129', 'WAP130', 'WAP131', 'WAP132',\n",
              "       'WAP133', 'WAP134', 'WAP135', 'WAP136', 'WAP137', 'WAP138',\n",
              "       'WAP139', 'WAP140', 'WAP141', 'WAP142', 'WAP143', 'WAP144',\n",
              "       'WAP145', 'WAP146', 'WAP147', 'WAP148', 'WAP149', 'WAP150',\n",
              "       'WAP151', 'WAP152', 'WAP153', 'WAP154', 'WAP155', 'WAP156',\n",
              "       'WAP157', 'WAP158', 'WAP159', 'WAP160', 'WAP161', 'WAP162',\n",
              "       'WAP163', 'WAP164', 'WAP165', 'WAP166', 'WAP167', 'WAP168',\n",
              "       'WAP169', 'WAP170', 'WAP171', 'WAP172', 'WAP173', 'WAP174',\n",
              "       'WAP175', 'WAP176', 'WAP177', 'WAP178', 'WAP179', 'WAP180',\n",
              "       'WAP181', 'WAP182', 'WAP183', 'WAP184', 'WAP185', 'WAP186',\n",
              "       'WAP187', 'WAP188', 'WAP189', 'WAP190', 'WAP191', 'WAP192',\n",
              "       'WAP193', 'WAP194', 'WAP195', 'WAP196', 'WAP197', 'WAP198',\n",
              "       'WAP199', 'WAP200', 'WAP201', 'WAP202', 'WAP203', 'WAP204',\n",
              "       'WAP205', 'WAP206', 'WAP207', 'WAP208', 'WAP209', 'WAP210',\n",
              "       'WAP211', 'WAP212', 'WAP213', 'WAP214', 'WAP215', 'WAP216',\n",
              "       'WAP217', 'WAP218', 'WAP219', 'WAP220', 'WAP221', 'WAP222',\n",
              "       'WAP223', 'WAP224', 'WAP225', 'WAP226', 'WAP227', 'WAP228',\n",
              "       'WAP229', 'WAP230', 'WAP231', 'WAP232', 'WAP233', 'WAP234',\n",
              "       'WAP235', 'WAP236', 'WAP237', 'WAP238', 'WAP239', 'WAP240',\n",
              "       'WAP241', 'WAP242', 'WAP243', 'WAP244', 'WAP245', 'WAP246',\n",
              "       'WAP247', 'WAP248', 'WAP249', 'WAP250', 'WAP251', 'WAP252',\n",
              "       'WAP253', 'WAP254', 'WAP255', 'WAP256', 'WAP257', 'WAP258',\n",
              "       'WAP259', 'WAP260', 'WAP261', 'WAP262', 'WAP263', 'WAP264',\n",
              "       'WAP265', 'WAP266', 'WAP267', 'WAP268', 'WAP269', 'WAP270',\n",
              "       'WAP271', 'WAP272', 'WAP273', 'WAP274', 'WAP275', 'WAP276',\n",
              "       'WAP277', 'WAP278', 'WAP279', 'WAP280', 'WAP281', 'WAP282',\n",
              "       'WAP283', 'WAP284', 'WAP285', 'WAP286', 'WAP287', 'WAP288',\n",
              "       'WAP289', 'WAP290', 'WAP291', 'WAP292', 'WAP293', 'WAP294',\n",
              "       'WAP295', 'WAP296', 'WAP297', 'WAP298', 'WAP299', 'WAP300',\n",
              "       'WAP301', 'WAP302', 'WAP303', 'WAP304', 'WAP305', 'WAP306',\n",
              "       'WAP307', 'WAP308', 'WAP309', 'WAP310', 'WAP311', 'WAP312',\n",
              "       'WAP313', 'WAP314', 'WAP315', 'WAP316', 'WAP317', 'WAP318',\n",
              "       'WAP319', 'WAP320', 'WAP321', 'WAP322', 'WAP323', 'WAP324',\n",
              "       'WAP325', 'WAP326', 'WAP327', 'WAP328', 'WAP329', 'WAP330',\n",
              "       'WAP331', 'WAP332', 'WAP333', 'WAP334', 'WAP335', 'WAP336',\n",
              "       'WAP337', 'WAP338', 'WAP339', 'WAP340', 'WAP341', 'WAP342',\n",
              "       'WAP343', 'WAP344', 'WAP345', 'WAP346', 'WAP347', 'WAP348',\n",
              "       'WAP349', 'WAP350', 'WAP351', 'WAP352', 'WAP353', 'WAP354',\n",
              "       'WAP355', 'WAP356', 'WAP357', 'WAP358', 'WAP359', 'WAP360',\n",
              "       'WAP361', 'WAP362', 'WAP363', 'WAP364', 'WAP365', 'WAP366',\n",
              "       'WAP367', 'WAP368', 'WAP369', 'WAP370', 'WAP371', 'WAP372',\n",
              "       'WAP373', 'WAP374', 'WAP375', 'WAP376', 'WAP377', 'WAP378',\n",
              "       'WAP379', 'WAP380', 'WAP381', 'WAP382', 'WAP383', 'WAP384',\n",
              "       'WAP385', 'WAP386', 'WAP387', 'WAP388', 'WAP389', 'WAP390',\n",
              "       'WAP391', 'WAP392', 'WAP393', 'WAP394', 'WAP395', 'WAP396',\n",
              "       'WAP397', 'WAP398', 'WAP399', 'WAP400', 'WAP401', 'WAP402',\n",
              "       'WAP403', 'WAP404', 'WAP405', 'WAP406', 'WAP407', 'WAP408',\n",
              "       'WAP409', 'WAP410', 'WAP411', 'WAP412', 'WAP413', 'WAP414',\n",
              "       'WAP415', 'WAP416', 'WAP417', 'WAP418', 'WAP419', 'WAP420',\n",
              "       'WAP421', 'WAP422', 'WAP423', 'WAP424', 'WAP425', 'WAP426',\n",
              "       'WAP427', 'WAP428', 'WAP429', 'WAP430', 'WAP431', 'WAP432',\n",
              "       'WAP433', 'WAP434', 'WAP435', 'WAP436', 'WAP437', 'WAP438',\n",
              "       'WAP439', 'WAP440', 'WAP441', 'WAP442', 'WAP443', 'WAP444',\n",
              "       'WAP445', 'WAP446', 'WAP447', 'WAP448', 'WAP449', 'WAP450',\n",
              "       'WAP451', 'WAP452', 'WAP453', 'WAP454', 'WAP455', 'WAP456',\n",
              "       'WAP457', 'WAP458', 'WAP459', 'WAP460', 'WAP461', 'WAP462',\n",
              "       'WAP463', 'WAP464', 'WAP465', 'WAP466', 'WAP467', 'WAP468',\n",
              "       'WAP469', 'WAP470', 'WAP471', 'WAP472', 'WAP473', 'WAP474',\n",
              "       'WAP475', 'WAP476', 'WAP477', 'WAP478', 'WAP479', 'WAP480',\n",
              "       'WAP481', 'WAP482', 'WAP483', 'WAP484', 'WAP485', 'WAP486',\n",
              "       'WAP487', 'WAP488', 'WAP489', 'WAP490', 'WAP491', 'WAP492',\n",
              "       'WAP493', 'WAP494', 'WAP495', 'WAP496', 'WAP497', 'WAP498',\n",
              "       'WAP499', 'WAP500', 'WAP501', 'WAP502', 'WAP503', 'WAP504',\n",
              "       'WAP505', 'WAP506', 'WAP507', 'WAP508', 'WAP509', 'WAP510',\n",
              "       'WAP511', 'WAP512', 'WAP513', 'WAP514', 'WAP515', 'WAP516',\n",
              "       'WAP517', 'WAP518', 'WAP519', 'WAP520', 'LONGITUDE', 'LATITUDE',\n",
              "       'FLOOR', 'BUILDINGID', 'SPACEID', 'RELATIVEPOSITION', 'USERID',\n",
              "       'PHONEID', 'TIMESTAMP'], dtype=object)"
            ]
          },
          "execution_count": 7,
          "metadata": {},
          "output_type": "execute_result"
        }
      ],
      "source": [
        "train_set.columns.values"
      ]
    },
    {
      "cell_type": "code",
      "execution_count": 8,
      "metadata": {
        "id": "jtFT-E6vz7ng",
        "outputId": "bbf92a77-5cbd-4fed-996f-cf0e2f90743e",
        "scrolled": true
      },
      "outputs": [
        {
          "data": {
            "image/png": "[encoded data removed]",
            "text/plain": [
              "<Figure size 432x288 with 1 Axes>"
            ]
          },
          "metadata": {
            "needs_background": "light"
          },
          "output_type": "display_data"
        }
      ],
      "source": [
        "plt.hist(train_set.loc[train_set[\"BUILDINGID\"] == 0][\"LONGITUDE\"])\n",
        "plt.show()\n",
        "# Almost all fingerprints were collected right outside the door to each \n",
        "# fingerprint's SPACEID location.\n",
        "# Building 0 fingerprints were collected by just 2 devices (and 2 separate \n",
        "# users). Not a lot of variety in different devices."
      ]
    },
    {
      "cell_type": "code",
      "execution_count": 9,
      "metadata": {
        "id": "GGLLmb4yz7ng",
        "outputId": "d16541ad-5035-4560-c540-22fc2def099a"
      },
      "outputs": [
        {
          "data": {
            "image/png": "[encoded data removed]",
            "text/plain": [
              "<Figure size 432x288 with 1 Axes>"
            ]
          },
          "metadata": {
            "needs_background": "light"
          },
          "output_type": "display_data"
        }
      ],
      "source": [
        "plt.hist(train_set.loc[train_set[\"BUILDINGID\"] == 1][\"LONGITUDE\"])\n",
        "plt.show()\n",
        "# Most fingerprints were collected right outside the door to each fingerprint's\n",
        "# SPACEID location."
      ]
    },
    {
      "cell_type": "code",
      "execution_count": 10,
      "metadata": {
        "id": "OkoPVGikz7nh",
        "outputId": "8f0c8e4f-d755-46c6-b4b9-5dbd831a0058"
      },
      "outputs": [
        {
          "data": {
            "image/png": "[encoded data removed]",
            "text/plain": [
              "<Figure size 432x288 with 1 Axes>"
            ]
          },
          "metadata": {
            "needs_background": "light"
          },
          "output_type": "display_data"
        }
      ],
      "source": [
        "plt.hist(train_set.loc[train_set[\"BUILDINGID\"] == 2][\"LONGITUDE\"])\n",
        "plt.show()\n",
        "# Most fingerprints were collected right outside the door to each fingerprint's\n",
        "# SPACEID location."
      ]
    },
    {
      "cell_type": "code",
      "execution_count": 11,
      "metadata": {
        "id": "TrO4yhrKz7ni",
        "outputId": "e9ad8e90-1aa5-4dbf-8752-e9717195db32"
      },
      "outputs": [
        {
          "data": {
            "image/png": "[encoded data removed]",
            "text/plain": [
              "<Figure size 432x288 with 1 Axes>"
            ]
          },
          "metadata": {
            "needs_background": "light"
          },
          "output_type": "display_data"
        }
      ],
      "source": [
        "plt.hist(train_set[\"LONGITUDE\"])\n",
        "plt.show()\n",
        "# Most fingerprints were collected right outside the door to each fingerprint's\n",
        "# SPACEID location."
      ]
    },
    {
      "cell_type": "code",
      "execution_count": 12,
      "metadata": {
        "id": "kZPn3CUkz7ni",
        "outputId": "68fa02b8-7b65-4e2b-8336-f7cbc2d5997c"
      },
      "outputs": [
        {
          "data": {
            "text/plain": [
              "False"
            ]
          },
          "execution_count": 12,
          "metadata": {},
          "output_type": "execute_result"
        }
      ],
      "source": [
        "# check for missing values\n",
        "pd.isnull(train_set)\n",
        "pd.isnull(train_set).values.any()\n",
        "# No missing values "
      ]
    },
    {
      "cell_type": "markdown",
      "metadata": {
        "id": "tcSHn6cuz7nj"
      },
      "source": [
        "Test Set"
      ]
    },
    {
      "cell_type": "code",
      "execution_count": 13,
      "metadata": {
        "id": "mbPrdL2Xz7nj",
        "outputId": "a4687a22-19fe-4fee-8bfb-d737b5607038"
      },
      "outputs": [
        {
          "data": {
            "text/plain": [
              "array([2, 1, 0, 3], dtype=int64)"
            ]
          },
          "execution_count": 13,
          "metadata": {},
          "output_type": "execute_result"
        }
      ],
      "source": [
        "test_set.loc[test_set[\"BUILDINGID\"] == 0][\"FLOOR\"].unique() # building 0 has 4 floors"
      ]
    },
    {
      "cell_type": "code",
      "execution_count": 14,
      "metadata": {
        "id": "BZNMw1a1z7nk",
        "outputId": "0ff530d2-8857-4625-bf5c-ef8374068505"
      },
      "outputs": [
        {
          "data": {
            "text/plain": [
              "array([1, 3, 2, 0], dtype=int64)"
            ]
          },
          "execution_count": 14,
          "metadata": {},
          "output_type": "execute_result"
        }
      ],
      "source": [
        "test_set.loc[test_set[\"BUILDINGID\"] == 1][\"FLOOR\"].unique() # building 1 has 4 floors"
      ]
    },
    {
      "cell_type": "code",
      "execution_count": 15,
      "metadata": {
        "id": "aDUVgaOiz7nk",
        "outputId": "178d1c28-4160-4b7b-ff94-221520a3c7cb"
      },
      "outputs": [
        {
          "data": {
            "text/plain": [
              "array([4, 2, 3, 0, 1], dtype=int64)"
            ]
          },
          "execution_count": 15,
          "metadata": {},
          "output_type": "execute_result"
        }
      ],
      "source": [
        "test_set.loc[test_set[\"BUILDINGID\"] == 2][\"FLOOR\"].unique() # building 2 has 5 floors"
      ]
    },
    {
      "cell_type": "code",
      "execution_count": 16,
      "metadata": {
        "id": "1-oG-9QJz7nk",
        "outputId": "835fb62d-75f1-44fe-faa5-5127fd5e15fd"
      },
      "outputs": [
        {
          "data": {
            "text/plain": [
              "array(['WAP001', 'WAP002', 'WAP003', 'WAP004', 'WAP005', 'WAP006',\n",
              "       'WAP007', 'WAP008', 'WAP009', 'WAP010', 'WAP011', 'WAP012',\n",
              "       'WAP013', 'WAP014', 'WAP015', 'WAP016', 'WAP017', 'WAP018',\n",
              "       'WAP019', 'WAP020', 'WAP021', 'WAP022', 'WAP023', 'WAP024',\n",
              "       'WAP025', 'WAP026', 'WAP027', 'WAP028', 'WAP029', 'WAP030',\n",
              "       'WAP031', 'WAP032', 'WAP033', 'WAP034', 'WAP035', 'WAP036',\n",
              "       'WAP037', 'WAP038', 'WAP039', 'WAP040', 'WAP041', 'WAP042',\n",
              "       'WAP043', 'WAP044', 'WAP045', 'WAP046', 'WAP047', 'WAP048',\n",
              "       'WAP049', 'WAP050', 'WAP051', 'WAP052', 'WAP053', 'WAP054',\n",
              "       'WAP055', 'WAP056', 'WAP057', 'WAP058', 'WAP059', 'WAP060',\n",
              "       'WAP061', 'WAP062', 'WAP063', 'WAP064', 'WAP065', 'WAP066',\n",
              "       'WAP067', 'WAP068', 'WAP069', 'WAP070', 'WAP071', 'WAP072',\n",
              "       'WAP073', 'WAP074', 'WAP075', 'WAP076', 'WAP077', 'WAP078',\n",
              "       'WAP079', 'WAP080', 'WAP081', 'WAP082', 'WAP083', 'WAP084',\n",
              "       'WAP085', 'WAP086', 'WAP087', 'WAP088', 'WAP089', 'WAP090',\n",
              "       'WAP091', 'WAP092', 'WAP093', 'WAP094', 'WAP095', 'WAP096',\n",
              "       'WAP097', 'WAP098', 'WAP099', 'WAP100', 'WAP101', 'WAP102',\n",
              "       'WAP103', 'WAP104', 'WAP105', 'WAP106', 'WAP107', 'WAP108',\n",
              "       'WAP109', 'WAP110', 'WAP111', 'WAP112', 'WAP113', 'WAP114',\n",
              "       'WAP115', 'WAP116', 'WAP117', 'WAP118', 'WAP119', 'WAP120',\n",
              "       'WAP121', 'WAP122', 'WAP123', 'WAP124', 'WAP125', 'WAP126',\n",
              "       'WAP127', 'WAP128', 'WAP129', 'WAP130', 'WAP131', 'WAP132',\n",
              "       'WAP133', 'WAP134', 'WAP135', 'WAP136', 'WAP137', 'WAP138',\n",
              "       'WAP139', 'WAP140', 'WAP141', 'WAP142', 'WAP143', 'WAP144',\n",
              "       'WAP145', 'WAP146', 'WAP147', 'WAP148', 'WAP149', 'WAP150',\n",
              "       'WAP151', 'WAP152', 'WAP153', 'WAP154', 'WAP155', 'WAP156',\n",
              "       'WAP157', 'WAP158', 'WAP159', 'WAP160', 'WAP161', 'WAP162',\n",
              "       'WAP163', 'WAP164', 'WAP165', 'WAP166', 'WAP167', 'WAP168',\n",
              "       'WAP169', 'WAP170', 'WAP171', 'WAP172', 'WAP173', 'WAP174',\n",
              "       'WAP175', 'WAP176', 'WAP177', 'WAP178', 'WAP179', 'WAP180',\n",
              "       'WAP181', 'WAP182', 'WAP183', 'WAP184', 'WAP185', 'WAP186',\n",
              "       'WAP187', 'WAP188', 'WAP189', 'WAP190', 'WAP191', 'WAP192',\n",
              "       'WAP193', 'WAP194', 'WAP195', 'WAP196', 'WAP197', 'WAP198',\n",
              "       'WAP199', 'WAP200', 'WAP201', 'WAP202', 'WAP203', 'WAP204',\n",
              "       'WAP205', 'WAP206', 'WAP207', 'WAP208', 'WAP209', 'WAP210',\n",
              "       'WAP211', 'WAP212', 'WAP213', 'WAP214', 'WAP215', 'WAP216',\n",
              "       'WAP217', 'WAP218', 'WAP219', 'WAP220', 'WAP221', 'WAP222',\n",
              "       'WAP223', 'WAP224', 'WAP225', 'WAP226', 'WAP227', 'WAP228',\n",
              "       'WAP229', 'WAP230', 'WAP231', 'WAP232', 'WAP233', 'WAP234',\n",
              "       'WAP235', 'WAP236', 'WAP237', 'WAP238', 'WAP239', 'WAP240',\n",
              "       'WAP241', 'WAP242', 'WAP243', 'WAP244', 'WAP245', 'WAP246',\n",
              "       'WAP247', 'WAP248', 'WAP249', 'WAP250', 'WAP251', 'WAP252',\n",
              "       'WAP253', 'WAP254', 'WAP255', 'WAP256', 'WAP257', 'WAP258',\n",
              "       'WAP259', 'WAP260', 'WAP261', 'WAP262', 'WAP263', 'WAP264',\n",
              "       'WAP265', 'WAP266', 'WAP267', 'WAP268', 'WAP269', 'WAP270',\n",
              "       'WAP271', 'WAP272', 'WAP273', 'WAP274', 'WAP275', 'WAP276',\n",
              "       'WAP277', 'WAP278', 'WAP279', 'WAP280', 'WAP281', 'WAP282',\n",
              "       'WAP283', 'WAP284', 'WAP285', 'WAP286', 'WAP287', 'WAP288',\n",
              "       'WAP289', 'WAP290', 'WAP291', 'WAP292', 'WAP293', 'WAP294',\n",
              "       'WAP295', 'WAP296', 'WAP297', 'WAP298', 'WAP299', 'WAP300',\n",
              "       'WAP301', 'WAP302', 'WAP303', 'WAP304', 'WAP305', 'WAP306',\n",
              "       'WAP307', 'WAP308', 'WAP309', 'WAP310', 'WAP311', 'WAP312',\n",
              "       'WAP313', 'WAP314', 'WAP315', 'WAP316', 'WAP317', 'WAP318',\n",
              "       'WAP319', 'WAP320', 'WAP321', 'WAP322', 'WAP323', 'WAP324',\n",
              "       'WAP325', 'WAP326', 'WAP327', 'WAP328', 'WAP329', 'WAP330',\n",
              "       'WAP331', 'WAP332', 'WAP333', 'WAP334', 'WAP335', 'WAP336',\n",
              "       'WAP337', 'WAP338', 'WAP339', 'WAP340', 'WAP341', 'WAP342',\n",
              "       'WAP343', 'WAP344', 'WAP345', 'WAP346', 'WAP347', 'WAP348',\n",
              "       'WAP349', 'WAP350', 'WAP351', 'WAP352', 'WAP353', 'WAP354',\n",
              "       'WAP355', 'WAP356', 'WAP357', 'WAP358', 'WAP359', 'WAP360',\n",
              "       'WAP361', 'WAP362', 'WAP363', 'WAP364', 'WAP365', 'WAP366',\n",
              "       'WAP367', 'WAP368', 'WAP369', 'WAP370', 'WAP371', 'WAP372',\n",
              "       'WAP373', 'WAP374', 'WAP375', 'WAP376', 'WAP377', 'WAP378',\n",
              "       'WAP379', 'WAP380', 'WAP381', 'WAP382', 'WAP383', 'WAP384',\n",
              "       'WAP385', 'WAP386', 'WAP387', 'WAP388', 'WAP389', 'WAP390',\n",
              "       'WAP391', 'WAP392', 'WAP393', 'WAP394', 'WAP395', 'WAP396',\n",
              "       'WAP397', 'WAP398', 'WAP399', 'WAP400', 'WAP401', 'WAP402',\n",
              "       'WAP403', 'WAP404', 'WAP405', 'WAP406', 'WAP407', 'WAP408',\n",
              "       'WAP409', 'WAP410', 'WAP411', 'WAP412', 'WAP413', 'WAP414',\n",
              "       'WAP415', 'WAP416', 'WAP417', 'WAP418', 'WAP419', 'WAP420',\n",
              "       'WAP421', 'WAP422', 'WAP423', 'WAP424', 'WAP425', 'WAP426',\n",
              "       'WAP427', 'WAP428', 'WAP429', 'WAP430', 'WAP431', 'WAP432',\n",
              "       'WAP433', 'WAP434', 'WAP435', 'WAP436', 'WAP437', 'WAP438',\n",
              "       'WAP439', 'WAP440', 'WAP441', 'WAP442', 'WAP443', 'WAP444',\n",
              "       'WAP445', 'WAP446', 'WAP447', 'WAP448', 'WAP449', 'WAP450',\n",
              "       'WAP451', 'WAP452', 'WAP453', 'WAP454', 'WAP455', 'WAP456',\n",
              "       'WAP457', 'WAP458', 'WAP459', 'WAP460', 'WAP461', 'WAP462',\n",
              "       'WAP463', 'WAP464', 'WAP465', 'WAP466', 'WAP467', 'WAP468',\n",
              "       'WAP469', 'WAP470', 'WAP471', 'WAP472', 'WAP473', 'WAP474',\n",
              "       'WAP475', 'WAP476', 'WAP477', 'WAP478', 'WAP479', 'WAP480',\n",
              "       'WAP481', 'WAP482', 'WAP483', 'WAP484', 'WAP485', 'WAP486',\n",
              "       'WAP487', 'WAP488', 'WAP489', 'WAP490', 'WAP491', 'WAP492',\n",
              "       'WAP493', 'WAP494', 'WAP495', 'WAP496', 'WAP497', 'WAP498',\n",
              "       'WAP499', 'WAP500', 'WAP501', 'WAP502', 'WAP503', 'WAP504',\n",
              "       'WAP505', 'WAP506', 'WAP507', 'WAP508', 'WAP509', 'WAP510',\n",
              "       'WAP511', 'WAP512', 'WAP513', 'WAP514', 'WAP515', 'WAP516',\n",
              "       'WAP517', 'WAP518', 'WAP519', 'WAP520', 'LONGITUDE', 'LATITUDE',\n",
              "       'FLOOR', 'BUILDINGID', 'SPACEID', 'RELATIVEPOSITION', 'USERID',\n",
              "       'PHONEID', 'TIMESTAMP'], dtype=object)"
            ]
          },
          "execution_count": 16,
          "metadata": {},
          "output_type": "execute_result"
        }
      ],
      "source": [
        "test_set.columns.values"
      ]
    },
    {
      "cell_type": "code",
      "execution_count": 17,
      "metadata": {
        "id": "26-qPx8nz7nl",
        "outputId": "aa92b6c1-59e2-486c-e52a-0d704d9524de"
      },
      "outputs": [
        {
          "data": {
            "image/png": "[encoded data removed]",
            "text/plain": [
              "<Figure size 432x288 with 1 Axes>"
            ]
          },
          "metadata": {
            "needs_background": "light"
          },
          "output_type": "display_data"
        }
      ],
      "source": [
        "plt.hist(test_set.loc[test_set[\"BUILDINGID\"] == 0][\"LONGITUDE\"])\n",
        "plt.show()"
      ]
    },
    {
      "cell_type": "code",
      "execution_count": 18,
      "metadata": {
        "id": "OvFmX8H5z7nl",
        "outputId": "eed3e0b9-c77f-4bd8-ae77-25352a786d8b"
      },
      "outputs": [
        {
          "data": {
            "image/png": "[encoded data removed]",
            "text/plain": [
              "<Figure size 432x288 with 1 Axes>"
            ]
          },
          "metadata": {
            "needs_background": "light"
          },
          "output_type": "display_data"
        }
      ],
      "source": [
        "plt.hist(test_set.loc[test_set[\"BUILDINGID\"] == 1][\"LONGITUDE\"])\n",
        "plt.show()"
      ]
    },
    {
      "cell_type": "code",
      "execution_count": 19,
      "metadata": {
        "id": "_kU6mxWFz7nm",
        "outputId": "31f538bd-99b3-42f7-fd85-a4cf0dd52e9d"
      },
      "outputs": [
        {
          "data": {
            "image/png": "[encoded data removed]",
            "text/plain": [
              "<Figure size 432x288 with 1 Axes>"
            ]
          },
          "metadata": {
            "needs_background": "light"
          },
          "output_type": "display_data"
        }
      ],
      "source": [
        "plt.hist(test_set.loc[test_set[\"BUILDINGID\"] == 2][\"LONGITUDE\"])\n",
        "plt.show()"
      ]
    },
    {
      "cell_type": "code",
      "execution_count": 20,
      "metadata": {
        "id": "Oz_elxp5z7nm",
        "outputId": "5daf6ccd-e8ef-4c0b-9ed7-a605b0a0dafb"
      },
      "outputs": [
        {
          "data": {
            "image/png": "[encoded data removed]",
            "text/plain": [
              "<Figure size 432x288 with 1 Axes>"
            ]
          },
          "metadata": {
            "needs_background": "light"
          },
          "output_type": "display_data"
        }
      ],
      "source": [
        "plt.hist(test_set[\"LONGITUDE\"])\n",
        "plt.show()"
      ]
    },
    {
      "cell_type": "code",
      "execution_count": 21,
      "metadata": {
        "id": "LqLkY8FCz7nn",
        "outputId": "3327850d-3ad2-4ce3-89ee-9ce4a33c6352"
      },
      "outputs": [
        {
          "data": {
            "text/plain": [
              "False"
            ]
          },
          "execution_count": 21,
          "metadata": {},
          "output_type": "execute_result"
        }
      ],
      "source": [
        "# check for missing values\n",
        "pd.isnull(test_set)\n",
        "pd.isnull(test_set).values.any()\n",
        "# No missing values"
      ]
    },
    {
      "cell_type": "markdown",
      "metadata": {
        "id": "exgwoXLZz7nn"
      },
      "source": [
        "# Preprocess Data and Feature Engineering"
      ]
    },
    {
      "cell_type": "markdown",
      "metadata": {
        "id": "B7NRU_8Cz7nn"
      },
      "source": [
        "Training/validation Set"
      ]
    },
    {
      "cell_type": "code",
      "execution_count": 22,
      "metadata": {
        "id": "PyV66ZFoz7no"
      },
      "outputs": [],
      "source": [
        "# Fingerprint data representation: positive-value representation for all WAPs.\n",
        "# Original representation: -104 to 0 (weak to strong), 100 for no signal.\n",
        "# New represenation: 1 to 105 (weak to strong), 0 for no signal.\n",
        "train_set.iloc[:, 0:520].min().min() # minimum WAP is -104 dBm\n",
        "train_set_P = train_set.copy()\n",
        "train_set_P.iloc[:, 0:520] = np.where(train_set_P.iloc[:, 0:520] <= 0, \n",
        "                train_set_P.iloc[:, 0:520] + 105, \n",
        "                train_set_P.iloc[:, 0:520] - 100) "
      ]
    },
    {
      "cell_type": "code",
      "execution_count": null,
      "metadata": {
        "id": "w0CMShSPz7no"
      },
      "outputs": [],
      "source": [
        "# Feature Scaling - do not center - destroys sparse structure of\n",
        "# this data. There's also no need to normalize the WAPs, since they're all on\n",
        "# the same scale already."
      ]
    },
    {
      "cell_type": "code",
      "execution_count": 23,
      "metadata": {
        "id": "NQBWoFFnz7no",
        "outputId": "6ec80bb9-9a21-498b-9993-62afc4d81660"
      },
      "outputs": [
        {
          "data": {
            "text/plain": [
              "1997"
            ]
          },
          "execution_count": 23,
          "metadata": {},
          "output_type": "execute_result"
        }
      ],
      "source": [
        "# Create a single label for the model to predict. FLOOR, LATITUDE, FLOOR, and \n",
        "# BUILDINGID pinpoints the exact location of a user inside a building. Stack \n",
        "# train set and test set first before assigning unique location so that \n",
        "# identical locations are assigned the same UNIQUELOCATION value.\n",
        "combined = pd.concat([train_set_P, test_set]) # stack vertically\n",
        "combined = combined.assign(UNIQUELOCATION = (combined['LONGITUDE'].astype(str) + '_' + combined['LATITUDE'].astype(str) + '_' + combined['FLOOR'].astype(str) + '_' + combined['BUILDINGID'].astype(str)).astype('category').cat.codes)\n",
        "len(combined[\"UNIQUELOCATION\"].unique()) # 1995 unique locations"
      ]
    },
    {
      "cell_type": "code",
      "execution_count": 24,
      "metadata": {
        "id": "SgU4afnnz7no"
      },
      "outputs": [],
      "source": [
        "# split again\n",
        "train_set_PU = combined.iloc[0:19937, :]\n",
        "test_set_U = combined.iloc[19937:21048, :]"
      ]
    },
    {
      "cell_type": "code",
      "execution_count": null,
      "metadata": {
        "id": "xNWKTNmyz7np"
      },
      "outputs": [],
      "source": [
        "# Change variable types\n",
        "train_set_PU[\"UNIQUELOCATION\"] = train_set_PU[\"UNIQUELOCATION\"].astype(\"category\")\n",
        "train_set_PU.dtypes"
      ]
    },
    {
      "cell_type": "code",
      "execution_count": 26,
      "metadata": {
        "id": "i8DFNArWz7np"
      },
      "outputs": [],
      "source": [
        "X_train = train_set_PU.iloc[:, 0:520]\n",
        "y_train = train_set_PU.iloc[:, 520:530]"
      ]
    },
    {
      "cell_type": "markdown",
      "metadata": {
        "id": "_vhMVT75z7nq"
      },
      "source": [
        "Test Set"
      ]
    },
    {
      "cell_type": "code",
      "execution_count": 27,
      "metadata": {
        "id": "7zzBKH0yz7nq"
      },
      "outputs": [],
      "source": [
        "# Fingerprint data representation\n",
        "test_set_PU = test_set_U.copy()\n",
        "test_set_PU.iloc[:, 0:520] = np.where(test_set_PU.iloc[:, 0:520] <= 0, test_set_PU.iloc[:, 0:520] + 105, test_set_PU.iloc[:, 0:520] - 100) "
      ]
    },
    {
      "cell_type": "code",
      "execution_count": 28,
      "metadata": {
        "id": "_6K7IBO2z7nq"
      },
      "outputs": [],
      "source": [
        "# Feature Scaling - do not center this data - destroys sparse structure of\n",
        "# this data. There's also no need to normalize the WAPs, since they're all on\n",
        "# the same scale already."
      ]
    },
    {
      "cell_type": "code",
      "execution_count": 28,
      "metadata": {
        "id": "e0QIpSDzz7nr",
        "outputId": "27971b93-6cd3-4e66-adca-a29f70c6b981"
      },
      "outputs": [
        {
          "data": {
            "text/plain": [
              "WAP001                 int64\n",
              "WAP002                 int64\n",
              "WAP003                 int64\n",
              "WAP004                 int64\n",
              "WAP005                 int64\n",
              "                      ...   \n",
              "RELATIVEPOSITION       int64\n",
              "USERID                 int64\n",
              "PHONEID                int64\n",
              "TIMESTAMP              int64\n",
              "UNIQUELOCATION      category\n",
              "Length: 530, dtype: object"
            ]
          },
          "execution_count": 28,
          "metadata": {},
          "output_type": "execute_result"
        }
      ],
      "source": [
        "test_set_PU[\"UNIQUELOCATION\"] = test_set_PU[\"UNIQUELOCATION\"].astype(\"category\")\n",
        "test_set_PU.dtypes"
      ]
    },
    {
      "cell_type": "code",
      "execution_count": 29,
      "metadata": {
        "id": "BOD-yG9cz7nr"
      },
      "outputs": [],
      "source": [
        "X_test = test_set_PU.iloc[:, 0:520]\n",
        "y_test = test_set_PU.iloc[:, 520:530]"
      ]
    },
    {
      "cell_type": "code",
      "execution_count": 30,
      "metadata": {
        "id": "npUw-KSXz7nr"
      },
      "outputs": [],
      "source": [
        "# Create a reference table for looking up the LONGITUDE, LATITUDE, FLOOR, and \n",
        "# BUILDINGID associated with each UNIQUELOCATION value.\n",
        "ref_table = pd.concat([y_train.iloc[:, [0,1,2,3,9]], y_test.iloc[:, [0,1,2,3,9]]])\n",
        "ref_table = ref_table.drop_duplicates()"
      ]
    },
    {
      "cell_type": "code",
      "execution_count": 31,
      "metadata": {
        "id": "F0Tfj2JWz7nr"
      },
      "outputs": [],
      "source": [
        "#--- save data ---#\n",
        "def save_data(dataframe, filename):\n",
        "    file_present = glob.glob(filename) # boolean, file already present?\n",
        "    if not file_present:\n",
        "        dataframe.to_csv(filename)\n",
        "    else:\n",
        "        print('WARNING: This file already exists.')"
      ]
    },
    {
      "cell_type": "code",
      "execution_count": 32,
      "metadata": {
        "id": "uNCIA-60z7ns"
      },
      "outputs": [
        {
          "name": "stdout",
          "output_type": "stream",
          "text": [
            "WARNING: This file already exists.\n",
            "WARNING: This file already exists.\n",
            "WARNING: This file already exists.\n",
            "WARNING: This file already exists.\n"
          ]
        }
      ],
      "source": [
        "save_data(X_train, 'X_train_rf.csv')\n",
        "save_data(y_train, 'y_train_rf.csv')\n",
        "save_data(X_test, 'X_test_rf.csv')\n",
        "save_data(y_test, 'y_test_rf.csv')"
      ]
    },
    {
      "cell_type": "code",
      "execution_count": 33,
      "metadata": {
        "id": "K2cdvzupz7ns"
      },
      "outputs": [],
      "source": [
        "#--- load data ---#\n",
        "X_train = pd.read_csv('X_train_rf.csv', index_col = 0)\n",
        "y_train = pd.read_csv('y_train_rf.csv', index_col = 0)\n",
        "X_test = pd.read_csv('X_test_rf.csv', index_col = 0)\n",
        "y_test = pd.read_csv('y_test_rf.csv', index_col = 0)"
      ]
    },
    {
      "cell_type": "code",
      "execution_count": 34,
      "metadata": {
        "id": "qg4wKgVCz7nt"
      },
      "outputs": [],
      "source": [
        "#-- delete unneeded datasets created during preprocessing to free up memory --#\n",
        "del train_set, train_set_P, train_set_PU, test_set, test_set_U, test_set_PU, combined"
      ]
    },
    {
      "cell_type": "markdown",
      "metadata": {
        "id": "r1o-spBNz7nt"
      },
      "source": [
        "# Train Model(s)"
      ]
    },
    {
      "cell_type": "markdown",
      "metadata": {
        "id": "JCSCBH3hz7nt"
      },
      "source": [
        "Random Forest"
      ]
    },
    {
      "cell_type": "code",
      "execution_count": 35,
      "metadata": {
        "id": "aH5g9sAYz7nt"
      },
      "outputs": [],
      "source": [
        "# Using cross-validation, train best random forest model to predict \n",
        "# UNIQUELOCATION. We report the accuracy and kappa on UNIQUELOCATION predictions\n",
        "# for cross-validation and on the training set. We report location error metrics\n",
        "# on the test set.\n",
        "\n",
        "if __name__ == '__main__':\n",
        "    \n",
        "    # Select model\n",
        "    from sklearn.ensemble import RandomForestClassifier\n",
        "    classifier = RandomForestClassifier(random_state = 0)\n",
        "    \n",
        "    # Apply k-fold cross-validation with grid search\n",
        "    from sklearn.model_selection import GridSearchCV\n",
        "    # 'parameters' can be a list of dictionaries for more specificity in \n",
        "    # hyperparamter combinations to attempt.\n",
        "    # hyperparameters: http://scikit-learn.org/stable/modules/generated/sklearn.ensemble.RandomForestClassifier.html\n",
        "    # for a list of hyperparameters tried, see \"tuning_rf.csv\"\n",
        "    hyperparameters = {'criterion': ['gini'], \n",
        "                  'max_depth': [None], \n",
        "                  'max_features': ['sqrt'],\n",
        "                  'n_estimators': [60]}\n",
        "    \n",
        "    from sklearn.metrics import cohen_kappa_score\n",
        "    from sklearn.metrics import make_scorer\n",
        "    scoring = {'accuracy': 'accuracy',\n",
        "               'kappa': make_scorer(cohen_kappa_score)}\n",
        "    \n",
        "    grid = GridSearchCV(estimator = classifier,\n",
        "                        param_grid = hyperparameters,\n",
        "                        scoring = scoring,\n",
        "                        cv = 10,\n",
        "                        refit = 'accuracy', # what best model is based on, and specifies that the best model will be refitted on the whole training set\n",
        "                        return_train_score = True,\n",
        "                        n_jobs = -1) # parallel processing\n",
        "    \n",
        "    tic = time.time()\n",
        "    grid_result = grid.fit(X_train, y_train.iloc[:, 9].squeeze()) # squeeze() makes sure y_train is a Series, as recommended now and required in upcoming sklearn versions.\n",
        "    toc = time.time()\n",
        "    run_time = (toc - tic)/60\n",
        "    import winsound; winsound.Beep(frequency = 1500, duration = 2000) "
      ]
    },
    {
      "cell_type": "code",
      "execution_count": 36,
      "metadata": {
        "id": "JrpPiZrCz7nu"
      },
      "outputs": [],
      "source": [
        "#--- cross validation metrics and training set metrics (average of folds) ----#\n",
        "cv_results_ = pd.DataFrame.from_dict(grid_result.cv_results_) \n",
        "cv_results_.insert(loc = 0, column = 'Model', \n",
        "                   value = ['RandomForestClassifier']*cv_results_.shape[0])\n",
        "cv_results_.insert(loc = 60, column = 'mean train - cross_val accuracy', \n",
        "                   value = cv_results_['mean_train_accuracy'] - cv_results_['mean_test_accuracy'])\n",
        "cv_results_.insert(loc = 61, column = 'mean train - cross_val kappa', \n",
        "                   value = cv_results_['mean_train_kappa'] - cv_results_['mean_test_kappa'])\n",
        "with open('tuning_rf.csv', 'a') as f:\n",
        "    cv_results_.to_csv(f, header = True)"
      ]
    },
    {
      "cell_type": "code",
      "execution_count": 37,
      "metadata": {
        "id": "1xafEf7iz7nv"
      },
      "outputs": [
        {
          "data": {
            "text/plain": [
              "{'criterion': 'gini',\n",
              " 'max_depth': None,\n",
              " 'max_features': 'sqrt',\n",
              " 'n_estimators': 60}"
            ]
          },
          "execution_count": 37,
          "metadata": {},
          "output_type": "execute_result"
        }
      ],
      "source": [
        "grid_result.best_estimator_\n",
        "grid_result.best_score_\n",
        "grid_result.best_params_"
      ]
    },
    {
      "cell_type": "code",
      "execution_count": 38,
      "metadata": {
        "id": "ZBNrVZ5Tz7nv"
      },
      "outputs": [],
      "source": [
        "#--- save best model ---#\n",
        "\n",
        "def save_model(model, model_name):\n",
        "    model_name_present = glob.glob(model_name) # boolean\n",
        "    if not model_name_present:\n",
        "        pickle.dump(grid_result, open(model_name, 'wb'))\n",
        "    else:\n",
        "        print('WARNING: This file already exists.')"
      ]
    },
    {
      "cell_type": "code",
      "execution_count": 39,
      "metadata": {
        "id": "yCeSvgF1z7nw"
      },
      "outputs": [
        {
          "name": "stdout",
          "output_type": "stream",
          "text": [
            "WARNING: This file already exists.\n"
          ]
        }
      ],
      "source": [
        "save_model(grid_result, 'RandomForestClassifier_model.sav')"
      ]
    },
    {
      "cell_type": "code",
      "execution_count": 42,
      "metadata": {
        "id": "6y5uO1OOz7nw"
      },
      "outputs": [],
      "source": [
        "#--- load model ---#\n",
        "grid_result = pickle.load(open('RandomForestClassifier_model.sav', 'rb'))"
      ]
    },
    {
      "cell_type": "code",
      "execution_count": 40,
      "metadata": {
        "id": "ZYQw3K-4z7nw"
      },
      "outputs": [
        {
          "data": {
            "text/plain": [
              "0.0054005400540054005"
            ]
          },
          "execution_count": 40,
          "metadata": {},
          "output_type": "execute_result"
        }
      ],
      "source": [
        "#--- test set metrics ---#\n",
        "y_pred = grid_result.predict(X_test)\n",
        "np.mean(y_pred == y_test.iloc[:, 9])\n",
        "# Prediction accuracy on UNIQUELOCATION for the test set is very low because \n",
        "# each UNIQUELOCATION value depends on the LONGTITUDE, LATITUDE, FLOOR, and\n",
        "# BUILDINGID, making the values quite unique. UJIIndoorLoc_validation.csv \n",
        "# (from which the test set came from) contains examples taken by users and \n",
        "# phones that did not participate in generating UJIIndoorLoc_train.csv \n",
        "# (training set). That alone may cause the Wi-Fi fingerprint-to-UNIQUELOCATION \n",
        "# mapping quite difficult to capture. However, since what we're really \n",
        "# interested in is how close our predicted positions are to the ground truth, \n",
        "# let's convert the predicted UNIQUELOCATIONS on the test set back to its\n",
        "# associated LONGITUDE, LATITUDE, FLOOR, and BUILDINGID. Then, report the \n",
        "# following metrics for position predictions: Euclidean distances between the \n",
        "# predicted and ground truth positions. Mean positional error and the 25th, 50th, 75th, \n",
        "# 95th, 100th (worst) percentiles of the positional errors. The hitrate for \n",
        "# BUILDINGID and FLOOR."
      ]
    },
    {
      "cell_type": "code",
      "execution_count": 41,
      "metadata": {
        "id": "XUpb6oGoz7nx"
      },
      "outputs": [],
      "source": [
        "y_test_pos = y_test.iloc[:, 0:2].values \n",
        "y_test_floor = y_test.iloc[:, 2].values\n",
        "y_test_building = y_test.iloc[:, 3].values\n",
        "\n",
        "dict_loc = {}\n",
        "m_total = ref_table.shape[0]\n",
        "for i in range(m_total):\n",
        "    key = int(ref_table.iloc[i]['UNIQUELOCATION'])\n",
        "    value = ref_table.iloc[i, 0:4].values\n",
        "    dict_loc[key] = value\n",
        "\n",
        "y_pred_pos = np.asarray([dict_loc[i] for i in y_pred])[:, 0:2] \n",
        "y_pred_floor = np.asarray([dict_loc[i] for i in y_pred])[:, 2]\n",
        "y_pred_building = np.asarray([dict_loc[i] for i in y_pred])[:, 3]"
      ]
    },
    {
      "cell_type": "code",
      "execution_count": 42,
      "metadata": {
        "id": "ZWP4xapdz7nx"
      },
      "outputs": [],
      "source": [
        "def euclidean(y_test_pos, y_pred_pos):\n",
        "    \"\"\"\n",
        "    Returns the prediction errors based on euclidean distances for each test \n",
        "    example. The prediction error for each test set example is the euclidean \n",
        "    distance between the test set's position (ground truth) and the predicted \n",
        "    position. A \"position\" is a pair of LONGITUDE and LATITUDE values, \n",
        "    e.g. -7515.92, 4.86489e+06.\n",
        "    \n",
        "    Arguments:\n",
        "    y_test_pos -- test set positions represented by numpy array of shape \n",
        "                  (m_test, 2)\n",
        "    y_pred_pos -- predicted test set position represented by numpy array of \n",
        "                  shape (m_test, 2)\n",
        "    \n",
        "    Returns:\n",
        "    D_error -- prediction errors between test set positions and predicted test \n",
        "               set positions represented by numpy array of shape (m_train, 1)\n",
        "    \"\"\"\n",
        "    m_test = y_test_pos.shape[0]\n",
        "    D_error = np.sum((y_test_pos - y_pred_pos)**2, axis = 1)**0.5\n",
        "    \n",
        "    return D_error"
      ]
    },
    {
      "cell_type": "code",
      "execution_count": 43,
      "metadata": {
        "id": "RBHJFjYIz7ny"
      },
      "outputs": [
        {
          "name": "stdout",
          "output_type": "stream",
          "text": [
            "8.578918235862663\n"
          ]
        }
      ],
      "source": [
        "# position errors for each test set example, in order as they appear\n",
        "D_error = euclidean(y_test_pos, y_pred_pos)\n",
        "# sorted   \n",
        "sorted_D_error = sorted(D_error)\n",
        "\n",
        "m_test = y_test.shape[0]\n",
        "mean_error = np.mean(D_error) # meters, this is the main performance metric for our task\n",
        "percentile_25th = sorted_D_error[math.ceil(m_test*0.25) - 1] # -1 since 0-indexed. meters\n",
        "percentile_50th = sorted_D_error[math.ceil(m_test*0.50) - 1] # meters\n",
        "percentile_75th = sorted_D_error[math.ceil(m_test*0.75) - 1] # meters\n",
        "percentile_95th = sorted_D_error[math.ceil(m_test*0.95) - 1] # meters\n",
        "percentile_100th = sorted_D_error[math.ceil(m_test*1.00) - 1] # meters\n",
        "building_hitrate = np.mean(y_test_building == y_pred_building)\n",
        "floor_hitrate = np.mean(y_test_floor == y_pred_floor)\n",
        "\n",
        "print(mean_error)\n"
      ]
    },
    {
      "cell_type": "code",
      "execution_count": 86,
      "metadata": {},
      "outputs": [
        {
          "name": "stdout",
          "output_type": "stream",
          "text": [
            "7.577644835862662\n"
          ]
        }
      ],
      "source": [
        "from sklearn.neighbors import KNeighborsRegressor #KNN classifier \n",
        "from sklearn.model_selection import KFold\n",
        "from sklearn.metrics import mean_squared_error\n",
        "from math import sqrt\n",
        "\n",
        "classifier = KNeighborsRegressor(n_neighbors=3, weights='uniform', algorithm='auto',metric='minkowski')\n",
        "\n",
        "seed = 13\n",
        "kfold = KFold(n_splits=3, shuffle=True, random_state=seed)\n",
        "hyperparameters = [{'n_neighbors': [1,2,3], 'weights': ['uniform','distance']}]\n",
        "grid = GridSearchCV(estimator=classifier, \n",
        "                    param_grid=hyperparameters, \n",
        "                    cv=kfold, \n",
        "                    scoring='r2', \n",
        "                    return_train_score = \n",
        "                    True, n_jobs = -1)\n",
        "\n",
        "grid_result = grid.fit(X_train, y_train.iloc[:, 9].squeeze())\n",
        "# print(grid.best_score_)\n",
        "# print(grid.best_estimator_)\n",
        "# print(grid.best_params_)\n",
        "\n",
        "#save_model(grid_result, 'KNNClassifier_model.sav')\n",
        "#grid_result = pickle.load(open('KNNClassifier_model.sav', 'rb'))\n",
        "\n",
        "y_pred = grid_result.predict(X_test)\n",
        "np.mean(y_pred == y_test.iloc[:, 9])\n",
        "\n",
        "y_test_pos = y_test.iloc[:, 0:2].values \n",
        "\n",
        "df_y_pred_pos = pd.DataFrame(y_pred)\n",
        "y_pred_pos = df_y_pred_pos.iloc[:, 0:1].values #incorrect error value\n",
        "\n",
        "dict_loc = {}\n",
        "m_total = ref_table.shape[0]\n",
        "#print(y_pred_pos.shape[0])\n",
        "#print(m_total)\n",
        "for i in range(m_total):\n",
        "  key = int(ref_table.iloc[i]['UNIQUELOCATION'])\n",
        "  value = ref_table.iloc[i, 0:4].values\n",
        "  # print(value)\n",
        "  dict_loc[key] = value\n",
        "\n",
        "y_pred_pos = np.asarray([dict_loc[i] for i in y_pred])[:, 0:2] \n",
        "\n",
        "# position errors for each test set example, in order as they appear\n",
        "# derror = sqrt(mean_squared_error(y_test,y_pred))\n",
        "D_error = euclidean(y_test_pos, y_pred_pos)\n",
        "# sorted   \n",
        "sorted_D_error = sorted(D_error)\n",
        "mean_error = np.mean(D_error)\n",
        "print(mean_error)"
      ]
    },
    {
      "cell_type": "code",
      "execution_count": 106,
      "metadata": {},
      "outputs": [
        {
          "name": "stdout",
          "output_type": "stream",
          "text": [
            "13.064457035409692\n"
          ]
        }
      ],
      "source": [
        "from sklearn.naive_bayes import GaussianNB\n",
        "\n",
        "classifier =  GaussianNB()\n",
        "\n",
        "hyperparameters = [{'var_smoothing': np.logspace(0,-9, num=100)}] # no hyper parmeter tuning is required\n",
        "#grid = GridSearchCV(estimator=classifier, \n",
        "#                    param_grid=hyperparameters,\n",
        "#                    cv=cv_method, \n",
        "#                    scoring=scoring, \n",
        "#                    refit = 'accuracy',\n",
        "#                    return_train_score = True,\n",
        "#                    n_jobs = -1)\n",
        "grid_result = classifier.fit(X_train, y_train.iloc[:, 9].squeeze())\n",
        "\n",
        "y_test_pos = y_test.iloc[:, 0:2].values \n",
        "y_pred = grid_result.predict(X_test)\n",
        "np.mean(y_pred == y_test.iloc[:, 9])\n",
        "\n",
        "dict_loc = {}\n",
        "m_total = ref_table.shape[0]\n",
        "for i in range(m_total):\n",
        "  key = int(ref_table.iloc[i]['UNIQUELOCATION'])\n",
        "  value = ref_table.iloc[i, 0:4].values\n",
        "  # print(value)\n",
        "  dict_loc[key] = value\n",
        "\n",
        "y_pred_pos = np.asarray([dict_loc[i] for i in y_pred])[:, 0:2]\n",
        "D_error = euclidean(y_test_pos, y_pred_pos)\n",
        "mean_error = np.mean(D_error)\n",
        "\n",
        "print(mean_error)"
      ]
    },
    {
      "cell_type": "code",
      "execution_count": null,
      "metadata": {},
      "outputs": [],
      "source": [
        "from sklearn.tree import DecisionTreeClassifier\n",
        "\n",
        "classifier = DecisionTreeClassifier(random_state=17)\n",
        "\n",
        "hyperparameters = {'criterion': ['gini'], \n",
        "                   'max_depth': [None], \n",
        "                  'max_features': ['sqrt']}\n",
        "\n",
        "grid = GridSearchCV(estimator=classifier, \n",
        "                    param_grid=hyperparameters, \n",
        "                    cv=2, \n",
        "                    scoring='accuracy', \n",
        "                    return_train_score = True, \n",
        "                    n_jobs = -1)\n",
        "grid_result = grid.fit(X_train, y_train.iloc[:, 9].squeeze())\n",
        "\n",
        "y_test_pos = y_test.iloc[:, 0:2].values \n",
        "y_pred = grid_result.predict(X_test)\n",
        "np.mean(y_pred == y_test.iloc[:, 9])\n",
        "\n",
        "dict_loc = {}\n",
        "m_total = ref_table.shape[0]\n",
        "for i in range(m_total):\n",
        "  key = int(ref_table.iloc[i]['UNIQUELOCATION'])\n",
        "  value = ref_table.iloc[i, 0:4].values\n",
        "  # print(value)\n",
        "  dict_loc[key] = value\n",
        "\n",
        "y_pred_pos = np.asarray([dict_loc[i] for i in y_pred])[:, 0:2]\n",
        "D_error = euclidean(y_test_pos, y_pred_pos)\n",
        "mean_error = np.mean(D_error)\n",
        "\n",
        "print(mean_error)\n"
      ]
    },
    {
      "cell_type": "code",
      "execution_count": null,
      "metadata": {},
      "outputs": [],
      "source": [
        "#WORK IN PROGRESS!!\n",
        "from sklearn.ensemble import RandomForestRegressor\n",
        "from sklearn.impute import SimpleImputer\n",
        "\n",
        "classifier = RandomForestRegressor(random_state=1)\n",
        "\n",
        "hyperparameters = [{'n_estimators': [10,30,50,70,100], \n",
        "                     'max_features': [0.25,0.5,0.75],\n",
        "                     'max_depth': [3,6,9,12],\n",
        "                     'min_samples_leaf': [5,10,20,30]\n",
        "                     }]\n",
        "grid = SimpleImputer(missing_values=np.nan, strategy='mean')\n",
        "\n",
        "grid = GridSearchCV(estimator=classifier, \n",
        "                    param_grid=hyperparameters, \n",
        "                    cv=2, \n",
        "                    scoring=scoring, \n",
        "                    refit = 'accuracy',\n",
        "                    return_train_score = True,\n",
        "                    n_jobs = -1)\n",
        "\n",
        "grid_result = grid.fit(X_train, y_train.iloc[:, 9].squeeze())\n",
        "grid.transform(y_train)\n",
        "grid.transform(y_test)\n",
        "grid.transform(X_test)\n",
        "grid.transform(X_train)\n",
        "# X_train = imp.transform(X_train)\n",
        "#print(grid.best_score_)\n",
        "#print(grid.best_estimator_)\n",
        "#print(grid.best_params_)\n",
        "\n",
        "y_test_pos = y_test.iloc[:, 0:2].values \n",
        "y_pred = grid_result.predict(X_test)\n",
        "np.mean(y_pred == y_test.iloc[:, 9])\n",
        "\n",
        "dict_loc = {}\n",
        "m_total = ref_table.shape[0]\n",
        "print(y_pred_pos.shape[0])\n",
        "print(m_total)\n",
        "for i in range(m_total):\n",
        "  key = int(ref_table.iloc[i]['UNIQUELOCATION'])\n",
        "  value = ref_table.iloc[i, 0:4].values\n",
        "  # print(value)\n",
        "  dict_loc[key] = value\n",
        "\n",
        "# y_pred_pos = np.asarray([dict_loc[i] for i in y_pred])[:, 0:2] \n",
        "\n",
        "# position errors for each test set example, in order as they appear\n",
        "# derror = sqrt(mean_squared_error(y_test,y_pred))\n",
        "D_error = euclidean(y_test_pos, y_pred_pos)\n",
        "# sorted   \n",
        "sorted_D_error = sorted(D_error)\n",
        "mean_error = np.mean(D_error)\n",
        "print(mean_error)\n"
      ]
    }
  ],
  "metadata": {
    "colab": {
      "collapsed_sections": [],
      "name": "wifi_locationing_rf.ipynb",
      "provenance": []
    },
    "interpreter": {
      "hash": "e02fd8c1647a10c095a5d5d362037efea5421a833da348a30fe407dff82fa04e"
    },
    "kernelspec": {
      "display_name": "Python 3.10.4 64-bit",
      "language": "python",
      "name": "python3"
    },
    "language_info": {
      "codemirror_mode": {
        "name": "ipython",
        "version": 3
      },
      "file_extension": ".py",
      "mimetype": "text/x-python",
      "name": "python",
      "nbconvert_exporter": "python",
      "pygments_lexer": "ipython3",
      "version": "3.10.4"
    }
  },
  "nbformat": 4,
  "nbformat_minor": 0
}
